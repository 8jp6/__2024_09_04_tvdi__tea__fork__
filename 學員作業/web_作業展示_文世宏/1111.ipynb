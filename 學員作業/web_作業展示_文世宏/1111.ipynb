{
 "cells": [
  {
   "cell_type": "code",
   "execution_count": 1,
   "metadata": {},
   "outputs": [
    {
     "name": "stdout",
     "output_type": "stream",
     "text": [
      "數據加載成功\n",
      "   Student_ID  Study_Hours_Per_Day  Extracurricular_Hours_Per_Day  \\\n",
      "0           1                  6.9                            3.8   \n",
      "1           2                  5.3                            3.5   \n",
      "2           3                  5.1                            3.9   \n",
      "3           4                  6.5                            2.1   \n",
      "4           5                  8.1                            0.6   \n",
      "\n",
      "   Sleep_Hours_Per_Day  Social_Hours_Per_Day  Physical_Activity_Hours_Per_Day  \\\n",
      "0                  8.7                   2.8                              1.8   \n",
      "1                  8.0                   4.2                              3.0   \n",
      "2                  9.2                   1.2                              4.6   \n",
      "3                  7.2                   1.7                              6.5   \n",
      "4                  6.5                   2.2                              6.6   \n",
      "\n",
      "    GPA Stress_Level  \n",
      "0  2.99     Moderate  \n",
      "1  2.75          Low  \n",
      "2  2.67          Low  \n",
      "3  2.88     Moderate  \n",
      "4  3.51         High  \n"
     ]
    }
   ],
   "source": [
    "import pandas as pd\n",
    "try:\n",
    "    df = pd.read_csv(r'C:\\Users\\user\\Desktop\\程式在這裡\\GitHub\\TVDI_python\\testing\\readme_proj_2\\student_lifestyle_dataset.csv')\n",
    "    print(\"數據加載成功\")\n",
    "    print(df.head())  # 檢查數據結構\n",
    "except Exception as e:\n",
    "    print(\"數據加載失敗:\", e)\n"
   ]
  }
 ],
 "metadata": {
  "kernelspec": {
   "display_name": "venv",
   "language": "python",
   "name": "python3"
  },
  "language_info": {
   "codemirror_mode": {
    "name": "ipython",
    "version": 3
   },
   "file_extension": ".py",
   "mimetype": "text/x-python",
   "name": "python",
   "nbconvert_exporter": "python",
   "pygments_lexer": "ipython3",
   "version": "3.11.10"
  }
 },
 "nbformat": 4,
 "nbformat_minor": 2
}
